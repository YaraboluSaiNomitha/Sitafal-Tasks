{
  "nbformat": 4,
  "nbformat_minor": 0,
  "metadata": {
    "colab": {
      "provenance": [],
      "toc_visible": true
    },
    "kernelspec": {
      "name": "python3",
      "display_name": "Python 3"
    },
    "language_info": {
      "name": "python"
    }
  },
  "cells": [
    {
      "cell_type": "code",
      "source": [
        "!pip install PyPDF2 langchain faiss-cpu tiktoken transformers openai sentence-transformers\n"
      ],
      "metadata": {
        "id": "n76d0bZ76mqC"
      },
      "execution_count": null,
      "outputs": []
    },
    {
      "cell_type": "code",
      "source": [
        "from google.colab import files\n",
        "\n",
        "uploaded = files.upload()  # This will allow you to upload your PDFs\n",
        "pdf_path = list(uploaded.keys())[0]  # Get the uploaded file's name\n",
        "print(f\"Uploaded file: {pdf_path}\")\n"
      ],
      "metadata": {
        "id": "sNy7tf7d6wY7"
      },
      "execution_count": null,
      "outputs": []
    },
    {
      "cell_type": "code",
      "source": [
        "from PyPDF2 import PdfReader\n",
        "\n",
        "def extract_text_from_pdf(file_path):\n",
        "    reader = PdfReader(file_path)\n",
        "    text_data = []\n",
        "    for page in reader.pages:\n",
        "        text_data.append(page.extract_text())\n",
        "    return text_data\n",
        "\n",
        "# Extract text from the uploaded PDF\n",
        "pdf_text = extract_text_from_pdf(pdf_path)\n",
        "print(pdf_text[:2])  # Print text from the first two pages\n"
      ],
      "metadata": {
        "id": "Sf3QHLuP69hU"
      },
      "execution_count": null,
      "outputs": []
    },
    {
      "cell_type": "code",
      "source": [
        "from langchain.text_splitter import RecursiveCharacterTextSplitter\n",
        "\n",
        "def chunk_text(text_list):\n",
        "    text_splitter = RecursiveCharacterTextSplitter(\n",
        "        chunk_size=500,\n",
        "        chunk_overlap=50\n",
        "    )\n",
        "    chunks = []\n",
        "    for text in text_list:\n",
        "        chunks.extend(text_splitter.split_text(text))\n",
        "    return chunks\n",
        "\n",
        "chunks = chunk_text(pdf_text)\n",
        "print(f\"Total chunks created: {len(chunks)}\")\n",
        "print(chunks[:3])  # Preview the first three chunks\n"
      ],
      "metadata": {
        "id": "HeEWkwr26zIr"
      },
      "execution_count": null,
      "outputs": []
    },
    {
      "cell_type": "code",
      "source": [
        "from sentence_transformers import SentenceTransformer\n",
        "\n",
        "# Load the embedding model\n",
        "embedding_model = SentenceTransformer(\"all-MiniLM-L6-v2\")\n",
        "\n",
        "def embed_chunks(chunks):\n",
        "    embeddings = embedding_model.encode(chunks, convert_to_tensor=True)\n",
        "    return embeddings\n",
        "\n",
        "chunk_embeddings = embed_chunks(chunks)\n"
      ],
      "metadata": {
        "id": "4tQLee1R7AnR"
      },
      "execution_count": null,
      "outputs": []
    },
    {
      "cell_type": "code",
      "source": [
        "import faiss\n",
        "import numpy as np\n",
        "\n",
        "def store_embeddings(embeddings, chunks):\n",
        "    index = faiss.IndexFlatL2(embeddings.shape[1])\n",
        "    index.add(np.array(embeddings))\n",
        "    return index, chunks\n",
        "\n",
        "faiss_index, stored_chunks = store_embeddings(chunk_embeddings, chunks)\n"
      ],
      "metadata": {
        "id": "QYUr-rHe7GKu"
      },
      "execution_count": null,
      "outputs": []
    },
    {
      "cell_type": "code",
      "source": [
        "def retrieve_relevant_chunks(query, index, model, stored_chunks, top_k=5):\n",
        "    query_embedding = model.encode([query], convert_to_tensor=True)\n",
        "    distances, indices = index.search(query_embedding.cpu().numpy(), top_k)\n",
        "    return [stored_chunks[idx] for idx in indices[0]]\n",
        "\n",
        "query = \"What is the unemployment rate for people with a bachelor's degree?\"\n",
        "relevant_chunks = retrieve_relevant_chunks(query, faiss_index, embedding_model, stored_chunks)\n",
        "print(f\"Relevant Chunks: {relevant_chunks}\")\n"
      ],
      "metadata": {
        "id": "fUlf6OGv7GeI"
      },
      "execution_count": null,
      "outputs": []
    },
    {
      "cell_type": "code",
      "source": [
        "import openai\n",
        "openai.api_key = \"YOUR_OPENAI_API_KEY\"\n"
      ],
      "metadata": {
        "id": "OxmeiLOQ7J7e"
      },
      "execution_count": null,
      "outputs": []
    },
    {
      "cell_type": "code",
      "source": [
        "def generate_response(query, context):\n",
        "    prompt = f\"Answer the question based on the context below:\\n\\nContext: {context}\\n\\nQuestion: {query}\\n\\nAnswer:\"\n",
        "    response = openai.Completion.create(\n",
        "        engine=\"text-davinci-003\",\n",
        "        prompt=prompt,\n",
        "        max_tokens=300\n",
        "    )\n",
        "    return response['choices'][0]['text'].strip()\n",
        "\n",
        "context = \"\\n\".join(relevant_chunks)\n",
        "response = generate_response(query, context)\n",
        "print(response)\n"
      ],
      "metadata": {
        "id": "1CPND34l7Nek"
      },
      "execution_count": null,
      "outputs": []
    },
    {
      "cell_type": "code",
      "source": [
        "def handle_comparison(query, relevant_chunks):\n",
        "    # Extract data points for comparison\n",
        "    comparison_data = []  # Extract or parse specific patterns\n",
        "    for chunk in relevant_chunks:\n",
        "        if \"Bachelor's\" in chunk or \"Master's\" in chunk:  # Example heuristic\n",
        "            comparison_data.append(chunk)\n",
        "    return \"\\n\".join(comparison_data)\n",
        "\n",
        "comparison_query = \"Compare unemployment rates for different degrees.\"\n",
        "comparison_chunks = retrieve_relevant_chunks(comparison_query, faiss_index, embedding_model, stored_chunks)\n",
        "comparison_response = handle_comparison(comparison_query, comparison_chunks)\n",
        "print(comparison_response)\n"
      ],
      "metadata": {
        "id": "oZyVd8oo7Qxl"
      },
      "execution_count": null,
      "outputs": []
    }
  ]
}
